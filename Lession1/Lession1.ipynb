
{
  "nbformat": 4,
  "nbformat_minor": 0,
  "metadata": {
    "colab": {
      "name": "Lession1.ipynb",
      "provenance": [],
      "collapsed_sections": []
    },
    "kernelspec": {
      "name": "python3",
      "display_name": "Python 3"
    },
    "language_info": {
      "name": "python"
    }
  },
  "cells": [
    {
      "cell_type": "code",
      "metadata": {
        "colab": {
          "base_uri": "https://localhost:8080/"
        },
        "id": "aR_RdHeyMiw1",
        "outputId": "c40d4b70-ec42-40ab-977a-2d7e8db9ef5d"
      },
      "source": [
        "from google.colab import drive\n",
        "drive.mount('/content/drive')"
      ],
      "execution_count": 20,
      "outputs": [
        {
          "output_type": "stream",
          "text": [
            "Drive already mounted at /content/drive; to attempt to forcibly remount, call drive.mount(\"/content/drive\", force_remount=True).\n"
          ],
          "name": "stdout"
        }
      ]
    },
    {
      "cell_type": "code",
      "metadata": {
        "id": "djOiFYYDJ6-u"
      },
      "source": [
        "import requests\n",
        "import time\n",
        "import json"
      ],
      "execution_count": 21,
      "outputs": []
    },
    {
      "cell_type": "code",
      "metadata": {
        "id": "cxqDXBA4Kg0f"
      },
      "source": [
        "def get_data(url: str) -> dict:\n",
        "    while True:\n",
        "        time.sleep(1)\n",
        "        response = requests.get(url)\n",
        "        if response.status_code == 200:\n",
        "            break\n",
        "    return response.json()"
      ],
      "execution_count": 27,
      "outputs": []
    },
    {
      "cell_type": "code",
      "metadata": {
        "id": "2r3yJyDYKtDs"
      },
      "source": [
        "url = 'https://api.github.com/users/Rygzema/repos'"
      ],
      "execution_count": 23,
      "outputs": []
    },
    {
      "cell_type": "code",
      "metadata": {
        "colab": {
          "base_uri": "https://localhost:8080/"
        },
        "id": "rhJQ0ISOKzKM",
        "outputId": "15752590-ce3d-4d40-f848-3090717416c4"
      },
      "source": [
        "response = get_data(url)\n",
        "print('Получен результат')\n",
        "print(response)"
      ],
      "execution_count": 24,
      "outputs": [
        {
          "output_type": "stream",
          "text": [
            "Получен результат\n",
            "[{'id': 393473010, 'node_id': 'MDEwOlJlcG9zaXRvcnkzOTM0NzMwMTA=', 'name': 'Credit-Default', 'full_name': 'Rygzema/Credit-Default', 'private': False, 'owner': {'login': 'Rygzema', 'id': 24291531, 'node_id': 'MDQ6VXNlcjI0MjkxNTMx', 'avatar_url': 'https://avatars.githubusercontent.com/u/24291531?v=4', 'gravatar_id': '', 'url': 'https://api.github.com/users/Rygzema', 'html_url': 'https://github.com/Rygzema', 'followers_url': 'https://api.github.com/users/Rygzema/followers', 'following_url': 'https://api.github.com/users/Rygzema/following{/other_user}', 'gists_url': 'https://api.github.com/users/Rygzema/gists{/gist_id}', 'starred_url': 'https://api.github.com/users/Rygzema/starred{/owner}{/repo}', 'subscriptions_url': 'https://api.github.com/users/Rygzema/subscriptions', 'organizations_url': 'https://api.github.com/users/Rygzema/orgs', 'repos_url': 'https://api.github.com/users/Rygzema/repos', 'events_url': 'https://api.github.com/users/Rygzema/events{/privacy}', 'received_events_url': 'https://api.github.com/users/Rygzema/received_events', 'type': 'User', 'site_admin': False}, 'html_url': 'https://github.com/Rygzema/Credit-Default', 'description': None, 'fork': False, 'url': 'https://api.github.com/repos/Rygzema/Credit-Default', 'forks_url': 'https://api.github.com/repos/Rygzema/Credit-Default/forks', 'keys_url': 'https://api.github.com/repos/Rygzema/Credit-Default/keys{/key_id}', 'collaborators_url': 'https://api.github.com/repos/Rygzema/Credit-Default/collaborators{/collaborator}', 'teams_url': 'https://api.github.com/repos/Rygzema/Credit-Default/teams', 'hooks_url': 'https://api.github.com/repos/Rygzema/Credit-Default/hooks', 'issue_events_url': 'https://api.github.com/repos/Rygzema/Credit-Default/issues/events{/number}', 'events_url': 'https://api.github.com/repos/Rygzema/Credit-Default/events', 'assignees_url': 'https://api.github.com/repos/Rygzema/Credit-Default/assignees{/user}', 'branches_url': 'https://api.github.com/repos/Rygzema/Credit-Default/branches{/branch}', 'tags_url': 'https://api.github.com/repos/Rygzema/Credit-Default/tags', 'blobs_url': 'https://api.github.com/repos/Rygzema/Credit-Default/git/blobs{/sha}', 'git_tags_url': 'https://api.github.com/repos/Rygzema/Credit-Default/git/tags{/sha}', 'git_refs_url': 'https://api.github.com/repos/Rygzema/Credit-Default/git/refs{/sha}', 'trees_url': 'https://api.github.com/repos/Rygzema/Credit-Default/git/trees{/sha}', 'statuses_url': 'https://api.github.com/repos/Rygzema/Credit-Default/statuses/{sha}', 'languages_url': 'https://api.github.com/repos/Rygzema/Credit-Default/languages', 'stargazers_url': 'https://api.github.com/repos/Rygzema/Credit-Default/stargazers', 'contributors_url': 'https://api.github.com/repos/Rygzema/Credit-Default/contributors', 'subscribers_url': 'https://api.github.com/repos/Rygzema/Credit-Default/subscribers', 'subscription_url': 'https://api.github.com/repos/Rygzema/Credit-Default/subscription', 'commits_url': 'https://api.github.com/repos/Rygzema/Credit-Default/commits{/sha}', 'git_commits_url': 'https://api.github.com/repos/Rygzema/Credit-Default/git/commits{/sha}', 'comments_url': 'https://api.github.com/repos/Rygzema/Credit-Default/comments{/number}', 'issue_comment_url': 'https://api.github.com/repos/Rygzema/Credit-Default/issues/comments{/number}', 'contents_url': 'https://api.github.com/repos/Rygzema/Credit-Default/contents/{+path}', 'compare_url': 'https://api.github.com/repos/Rygzema/Credit-Default/compare/{base}...{head}', 'merges_url': 'https://api.github.com/repos/Rygzema/Credit-Default/merges', 'archive_url': 'https://api.github.com/repos/Rygzema/Credit-Default/{archive_format}{/ref}', 'downloads_url': 'https://api.github.com/repos/Rygzema/Credit-Default/downloads', 'issues_url': 'https://api.github.com/repos/Rygzema/Credit-Default/issues{/number}', 'pulls_url': 'https://api.github.com/repos/Rygzema/Credit-Default/pulls{/number}', 'milestones_url': 'https://api.github.com/repos/Rygzema/Credit-Default/milestones{/number}', 'notifications_url': 'https://api.github.com/repos/Rygzema/Credit-Default/notifications{?since,all,participating}', 'labels_url': 'https://api.github.com/repos/Rygzema/Credit-Default/labels{/name}', 'releases_url': 'https://api.github.com/repos/Rygzema/Credit-Default/releases{/id}', 'deployments_url': 'https://api.github.com/repos/Rygzema/Credit-Default/deployments', 'created_at': '2021-08-06T18:52:26Z', 'updated_at': '2021-08-09T13:02:22Z', 'pushed_at': '2021-08-09T12:43:56Z', 'git_url': 'git://github.com/Rygzema/Credit-Default.git', 'ssh_url': 'git@github.com:Rygzema/Credit-Default.git', 'clone_url': 'https://github.com/Rygzema/Credit-Default.git', 'svn_url': 'https://github.com/Rygzema/Credit-Default', 'homepage': None, 'size': 416, 'stargazers_count': 0, 'watchers_count': 0, 'language': 'Jupyter Notebook', 'has_issues': True, 'has_projects': True, 'has_downloads': True, 'has_wiki': True, 'has_pages': False, 'forks_count': 0, 'mirror_url': None, 'archived': False, 'disabled': False, 'open_issues_count': 0, 'license': None, 'forks': 0, 'open_issues': 0, 'watchers': 0, 'default_branch': 'main'}, {'id': 394300787, 'node_id': 'MDEwOlJlcG9zaXRvcnkzOTQzMDA3ODc=', 'name': 'Methods-of-collecting-and-processing-data-from-the-Internet', 'full_name': 'Rygzema/Methods-of-collecting-and-processing-data-from-the-Internet', 'private': False, 'owner': {'login': 'Rygzema', 'id': 24291531, 'node_id': 'MDQ6VXNlcjI0MjkxNTMx', 'avatar_url': 'https://avatars.githubusercontent.com/u/24291531?v=4', 'gravatar_id': '', 'url': 'https://api.github.com/users/Rygzema', 'html_url': 'https://github.com/Rygzema', 'followers_url': 'https://api.github.com/users/Rygzema/followers', 'following_url': 'https://api.github.com/users/Rygzema/following{/other_user}', 'gists_url': 'https://api.github.com/users/Rygzema/gists{/gist_id}', 'starred_url': 'https://api.github.com/users/Rygzema/starred{/owner}{/repo}', 'subscriptions_url': 'https://api.github.com/users/Rygzema/subscriptions', 'organizations_url': 'https://api.github.com/users/Rygzema/orgs', 'repos_url': 'https://api.github.com/users/Rygzema/repos', 'events_url': 'https://api.github.com/users/Rygzema/events{/privacy}', 'received_events_url': 'https://api.github.com/users/Rygzema/received_events', 'type': 'User', 'site_admin': False}, 'html_url': 'https://github.com/Rygzema/Methods-of-collecting-and-processing-data-from-the-Internet', 'description': None, 'fork': True, 'url': 'https://api.github.com/repos/Rygzema/Methods-of-collecting-and-processing-data-from-the-Internet', 'forks_url': 'https://api.github.com/repos/Rygzema/Methods-of-collecting-and-processing-data-from-the-Internet/forks', 'keys_url': 'https://api.github.com/repos/Rygzema/Methods-of-collecting-and-processing-data-from-the-Internet/keys{/key_id}', 'collaborators_url': 'https://api.github.com/repos/Rygzema/Methods-of-collecting-and-processing-data-from-the-Internet/collaborators{/collaborator}', 'teams_url': 'https://api.github.com/repos/Rygzema/Methods-of-collecting-and-processing-data-from-the-Internet/teams', 'hooks_url': 'https://api.github.com/repos/Rygzema/Methods-of-collecting-and-processing-data-from-the-Internet/hooks', 'issue_events_url': 'https://api.github.com/repos/Rygzema/Methods-of-collecting-and-processing-data-from-the-Internet/issues/events{/number}', 'events_url': 'https://api.github.com/repos/Rygzema/Methods-of-collecting-and-processing-data-from-the-Internet/events', 'assignees_url': 'https://api.github.com/repos/Rygzema/Methods-of-collecting-and-processing-data-from-the-Internet/assignees{/user}', 'branches_url': 'https://api.github.com/repos/Rygzema/Methods-of-collecting-and-processing-data-from-the-Internet/branches{/branch}', 'tags_url': 'https://api.github.com/repos/Rygzema/Methods-of-collecting-and-processing-data-from-the-Internet/tags', 'blobs_url': 'https://api.github.com/repos/Rygzema/Methods-of-collecting-and-processing-data-from-the-Internet/git/blobs{/sha}', 'git_tags_url': 'https://api.github.com/repos/Rygzema/Methods-of-collecting-and-processing-data-from-the-Internet/git/tags{/sha}', 'git_refs_url': 'https://api.github.com/repos/Rygzema/Methods-of-collecting-and-processing-data-from-the-Internet/git/refs{/sha}', 'trees_url': 'https://api.github.com/repos/Rygzema/Methods-of-collecting-and-processing-data-from-the-Internet/git/trees{/sha}', 'statuses_url': 'https://api.github.com/repos/Rygzema/Methods-of-collecting-and-processing-data-from-the-Internet/statuses/{sha}', 'languages_url': 'https://api.github.com/repos/Rygzema/Methods-of-collecting-and-processing-data-from-the-Internet/languages', 'stargazers_url': 'https://api.github.com/repos/Rygzema/Methods-of-collecting-and-processing-data-from-the-Internet/stargazers', 'contributors_url': 'https://api.github.com/repos/Rygzema/Methods-of-collecting-and-processing-data-from-the-Internet/contributors', 'subscribers_url': 'https://api.github.com/repos/Rygzema/Methods-of-collecting-and-processing-data-from-the-Internet/subscribers', 'subscription_url': 'https://api.github.com/repos/Rygzema/Methods-of-collecting-and-processing-data-from-the-Internet/subscription', 'commits_url': 'https://api.github.com/repos/Rygzema/Methods-of-collecting-and-processing-data-from-the-Internet/commits{/sha}', 'git_commits_url': 'https://api.github.com/repos/Rygzema/Methods-of-collecting-and-processing-data-from-the-Internet/git/commits{/sha}', 'comments_url': 'https://api.github.com/repos/Rygzema/Methods-of-collecting-and-processing-data-from-the-Internet/comments{/number}', 'issue_comment_url': 'https://api.github.com/repos/Rygzema/Methods-of-collecting-and-processing-data-from-the-Internet/issues/comments{/number}', 'contents_url': 'https://api.github.com/repos/Rygzema/Methods-of-collecting-and-processing-data-from-the-Internet/contents/{+path}', 'compare_url': 'https://api.github.com/repos/Rygzema/Methods-of-collecting-and-processing-data-from-the-Internet/compare/{base}...{head}', 'merges_url': 'https://api.github.com/repos/Rygzema/Methods-of-collecting-and-processing-data-from-the-Internet/merges', 'archive_url': 'https://api.github.com/repos/Rygzema/Methods-of-collecting-and-processing-data-from-the-Internet/{archive_format}{/ref}', 'downloads_url': 'https://api.github.com/repos/Rygzema/Methods-of-collecting-and-processing-data-from-the-Internet/downloads', 'issues_url': 'https://api.github.com/repos/Rygzema/Methods-of-collecting-and-processing-data-from-the-Internet/issues{/number}', 'pulls_url': 'https://api.github.com/repos/Rygzema/Methods-of-collecting-and-processing-data-from-the-Internet/pulls{/number}', 'milestones_url': 'https://api.github.com/repos/Rygzema/Methods-of-collecting-and-processing-data-from-the-Internet/milestones{/number}', 'notifications_url': 'https://api.github.com/repos/Rygzema/Methods-of-collecting-and-processing-data-from-the-Internet/notifications{?since,all,participating}', 'labels_url': 'https://api.github.com/repos/Rygzema/Methods-of-collecting-and-processing-data-from-the-Internet/labels{/name}', 'releases_url': 'https://api.github.com/repos/Rygzema/Methods-of-collecting-and-processing-data-from-the-Internet/releases{/id}', 'deployments_url': 'https://api.github.com/repos/Rygzema/Methods-of-collecting-and-processing-data-from-the-Internet/deployments', 'created_at': '2021-08-09T13:24:14Z', 'updated_at': '2021-08-09T13:24:15Z', 'pushed_at': '2019-10-09T07:20:45Z', 'git_url': 'git://github.com/Rygzema/Methods-of-collecting-and-processing-data-from-the-Internet.git', 'ssh_url': 'git@github.com:Rygzema/Methods-of-collecting-and-processing-data-from-the-Internet.git', 'clone_url': 'https://github.com/Rygzema/Methods-of-collecting-and-processing-data-from-the-Internet.git', 'svn_url': 'https://github.com/Rygzema/Methods-of-collecting-and-processing-data-from-the-Internet', 'homepage': None, 'size': 240, 'stargazers_count': 0, 'watchers_count': 0, 'language': None, 'has_issues': False, 'has_projects': True, 'has_downloads': True, 'has_wiki': True, 'has_pages': False, 'forks_count': 0, 'mirror_url': None, 'archived': False, 'disabled': False, 'open_issues_count': 0, 'license': {'key': 'mit', 'name': 'MIT License', 'spdx_id': 'MIT', 'url': 'https://api.github.com/licenses/mit', 'node_id': 'MDc6TGljZW5zZTEz'}, 'forks': 0, 'open_issues': 0, 'watchers': 0, 'default_branch': 'master'}, {'id': 394291819, 'node_id': 'MDEwOlJlcG9zaXRvcnkzOTQyOTE4MTk=', 'name': 'Real-Estate-Price-Prediction', 'full_name': 'Rygzema/Real-Estate-Price-Prediction', 'private': False, 'owner': {'login': 'Rygzema', 'id': 24291531, 'node_id': 'MDQ6VXNlcjI0MjkxNTMx', 'avatar_url': 'https://avatars.githubusercontent.com/u/24291531?v=4', 'gravatar_id': '', 'url': 'https://api.github.com/users/Rygzema', 'html_url': 'https://github.com/Rygzema', 'followers_url': 'https://api.github.com/users/Rygzema/followers', 'following_url': 'https://api.github.com/users/Rygzema/following{/other_user}', 'gists_url': 'https://api.github.com/users/Rygzema/gists{/gist_id}', 'starred_url': 'https://api.github.com/users/Rygzema/starred{/owner}{/repo}', 'subscriptions_url': 'https://api.github.com/users/Rygzema/subscriptions', 'organizations_url': 'https://api.github.com/users/Rygzema/orgs', 'repos_url': 'https://api.github.com/users/Rygzema/repos', 'events_url': 'https://api.github.com/users/Rygzema/events{/privacy}', 'received_events_url': 'https://api.github.com/users/Rygzema/received_events', 'type': 'User', 'site_admin': False}, 'html_url': 'https://github.com/Rygzema/Real-Estate-Price-Prediction', 'description': None, 'fork': False, 'url': 'https://api.github.com/repos/Rygzema/Real-Estate-Price-Prediction', 'forks_url': 'https://api.github.com/repos/Rygzema/Real-Estate-Price-Prediction/forks', 'keys_url': 'https://api.github.com/repos/Rygzema/Real-Estate-Price-Prediction/keys{/key_id}', 'collaborators_url': 'https://api.github.com/repos/Rygzema/Real-Estate-Price-Prediction/collaborators{/collaborator}', 'teams_url': 'https://api.github.com/repos/Rygzema/Real-Estate-Price-Prediction/teams', 'hooks_url': 'https://api.github.com/repos/Rygzema/Real-Estate-Price-Prediction/hooks', 'issue_events_url': 'https://api.github.com/repos/Rygzema/Real-Estate-Price-Prediction/issues/events{/number}', 'events_url': 'https://api.github.com/repos/Rygzema/Real-Estate-Price-Prediction/events', 'assignees_url': 'https://api.github.com/repos/Rygzema/Real-Estate-Price-Prediction/assignees{/user}', 'branches_url': 'https://api.github.com/repos/Rygzema/Real-Estate-Price-Prediction/branches{/branch}', 'tags_url': 'https://api.github.com/repos/Rygzema/Real-Estate-Price-Prediction/tags', 'blobs_url': 'https://api.github.com/repos/Rygzema/Real-Estate-Price-Prediction/git/blobs{/sha}', 'git_tags_url': 'https://api.github.com/repos/Rygzema/Real-Estate-Price-Prediction/git/tags{/sha}', 'git_refs_url': 'https://api.github.com/repos/Rygzema/Real-Estate-Price-Prediction/git/refs{/sha}', 'trees_url': 'https://api.github.com/repos/Rygzema/Real-Estate-Price-Prediction/git/trees{/sha}', 'statuses_url': 'https://api.github.com/repos/Rygzema/Real-Estate-Price-Prediction/statuses/{sha}', 'languages_url': 'https://api.github.com/repos/Rygzema/Real-Estate-Price-Prediction/languages', 'stargazers_url': 'https://api.github.com/repos/Rygzema/Real-Estate-Price-Prediction/stargazers', 'contributors_url': 'https://api.github.com/repos/Rygzema/Real-Estate-Price-Prediction/contributors', 'subscribers_url': 'https://api.github.com/repos/Rygzema/Real-Estate-Price-Prediction/subscribers', 'subscription_url': 'https://api.github.com/repos/Rygzema/Real-Estate-Price-Prediction/subscription', 'commits_url': 'https://api.github.com/repos/Rygzema/Real-Estate-Price-Prediction/commits{/sha}', 'git_commits_url': 'https://api.github.com/repos/Rygzema/Real-Estate-Price-Prediction/git/commits{/sha}', 'comments_url': 'https://api.github.com/repos/Rygzema/Real-Estate-Price-Prediction/comments{/number}', 'issue_comment_url': 'https://api.github.com/repos/Rygzema/Real-Estate-Price-Prediction/issues/comments{/number}', 'contents_url': 'https://api.github.com/repos/Rygzema/Real-Estate-Price-Prediction/contents/{+path}', 'compare_url': 'https://api.github.com/repos/Rygzema/Real-Estate-Price-Prediction/compare/{base}...{head}', 'merges_url': 'https://api.github.com/repos/Rygzema/Real-Estate-Price-Prediction/merges', 'archive_url': 'https://api.github.com/repos/Rygzema/Real-Estate-Price-Prediction/{archive_format}{/ref}', 'downloads_url': 'https://api.github.com/repos/Rygzema/Real-Estate-Price-Prediction/downloads', 'issues_url': 'https://api.github.com/repos/Rygzema/Real-Estate-Price-Prediction/issues{/number}', 'pulls_url': 'https://api.github.com/repos/Rygzema/Real-Estate-Price-Prediction/pulls{/number}', 'milestones_url': 'https://api.github.com/repos/Rygzema/Real-Estate-Price-Prediction/milestones{/number}', 'notifications_url': 'https://api.github.com/repos/Rygzema/Real-Estate-Price-Prediction/notifications{?since,all,participating}', 'labels_url': 'https://api.github.com/repos/Rygzema/Real-Estate-Price-Prediction/labels{/name}', 'releases_url': 'https://api.github.com/repos/Rygzema/Real-Estate-Price-Prediction/releases{/id}', 'deployments_url': 'https://api.github.com/repos/Rygzema/Real-Estate-Price-Prediction/deployments', 'created_at': '2021-08-09T12:58:01Z', 'updated_at': '2021-08-09T13:00:47Z', 'pushed_at': '2021-08-09T13:00:44Z', 'git_url': 'git://github.com/Rygzema/Real-Estate-Price-Prediction.git', 'ssh_url': 'git@github.com:Rygzema/Real-Estate-Price-Prediction.git', 'clone_url': 'https://github.com/Rygzema/Real-Estate-Price-Prediction.git', 'svn_url': 'https://github.com/Rygzema/Real-Estate-Price-Prediction', 'homepage': None, 'size': 0, 'stargazers_count': 0, 'watchers_count': 0, 'language': 'Jupyter Notebook', 'has_issues': True, 'has_projects': True, 'has_downloads': True, 'has_wiki': True, 'has_pages': False, 'forks_count': 0, 'mirror_url': None, 'archived': False, 'disabled': False, 'open_issues_count': 0, 'license': None, 'forks': 0, 'open_issues': 0, 'watchers': 0, 'default_branch': 'main'}]\n"
          ],
          "name": "stdout"
        }
      ]
    },
    {
      "cell_type": "code",
      "metadata": {
        "colab": {
          "base_uri": "https://localhost:8080/"
        },
        "id": "W-umehz8Kz3E",
        "outputId": "cd83aa46-5323-4040-bf8f-64b90d538e4d"
      },
      "source": [
        "repo = []\n",
        "for itm in response:\n",
        "    repo.append(itm['name'])\n",
        "print(f'Список репозиториев пользователя Rygzema')\n",
        "print(repo)\n"
      ],
      "execution_count": 25,
      "outputs": [
        {
          "output_type": "stream",
          "text": [
            "Список репозиториев пользователя Rygzema\n",
            "['Credit-Default', 'Methods-of-collecting-and-processing-data-from-the-Internet', 'Real-Estate-Price-Prediction']\n"
          ],
          "name": "stdout"
        }
      ]
    },
    {
      "cell_type": "code",
      "metadata": {
        "id": "4UYLm7yaK1jM"
      },
      "source": [
        "with open('RGaneeva.json', 'w') as f:\n",
        "    json_repo = json.dump(repo, f)"
      ],
      "execution_count": 26,
      "outputs": []
    },
    {
      "cell_type": "markdown",
      "metadata": {
        "id": "_glD9vyCNWL8"
      },
      "source": [
        "Задание №2"
      ]
    },
    {
      "cell_type": "code",
      "metadata": {
        "id": "Ay2klUBkNnjl"
      },
      "source": [
        "import requests\n",
        "import time\n",
        "import json"
      ],
      "execution_count": 34,
      "outputs": []
    },
    {
      "cell_type": "code",
      "metadata": {
        "id": "e2FXrtNBNxu3"
      },
      "source": [
        "def get_data(service, key, type):\n",
        "    while True:\n",
        "        time.sleep(1)\n",
        "        url = f'{service}?q={type}&key={key}'\n",
        "        response = requests.get(url)\n",
        "        if response.status_code == 200:\n",
        "            print(url)\n",
        "            break\n",
        "    return response.json()"
      ],
      "execution_count": 35,
      "outputs": []
    },
    {
      "cell_type": "code",
      "metadata": {
        "colab": {
          "base_uri": "https://localhost:8080/"
        },
        "id": "Xlk56b7ZNxyN",
        "outputId": "17c8e2cd-1d35-4bf1-cc17-8b97aab9de40"
      },
      "source": [
        "key = '3943506'\n",
        "service = 'http://www.boredapi.com/api/activity/'\n",
        "type = 'education'\n",
        "response = get_data(service, key, type)\n",
        "\n",
        "print('Получен результат')\n",
        "print(response)"
      ],
      "execution_count": 37,
      "outputs": [
        {
          "output_type": "stream",
          "text": [
            "http://www.boredapi.com/api/activity/?q=education&key=3943506\n",
            "Получен результат\n",
            "{'activity': 'Learn Express.js', 'type': 'education', 'participants': 1, 'price': 0.1, 'link': 'https://expressjs.com/', 'key': '3943506', 'accessibility': 0.25}\n"
          ],
          "name": "stdout"
        }
      ]
    },
    {
      "cell_type": "code",
      "metadata": {
        "id": "STFn2SlGNx1r"
      },
      "source": [
        "with open('RGaneeva1.json', 'w') as f:\n",
        "    json_repo = json.dump(response, f)"
      ],
      "execution_count": 38,
      "outputs": []
    }
  ]
}
